{
  "nbformat": 4,
  "nbformat_minor": 0,
  "metadata": {
    "colab": {
      "provenance": [],
      "authorship_tag": "ABX9TyPaN/RTljmWh+e2RjXOQlQu",
      "include_colab_link": true
    },
    "kernelspec": {
      "name": "python3",
      "display_name": "Python 3"
    },
    "language_info": {
      "name": "python"
    }
  },
  "cells": [
    {
      "cell_type": "markdown",
      "metadata": {
        "id": "view-in-github",
        "colab_type": "text"
      },
      "source": [
        "<a href=\"https://colab.research.google.com/github/guravharshvardhan/Machine-Learning/blob/main/Data_Preprocessing.ipynb\" target=\"_parent\"><img src=\"https://colab.research.google.com/assets/colab-badge.svg\" alt=\"Open In Colab\"/></a>"
      ]
    },
    {
      "cell_type": "code",
      "execution_count": 1,
      "metadata": {
        "id": "2MSOEboitu9t"
      },
      "outputs": [],
      "source": [
        "import pandas as pd\n",
        "from sklearn.model_selection import train_test_split\n",
        "from sklearn.preprocessing import StandardScaler,LabelEncoder\n",
        "from sklearn.impute import SimpleImputer"
      ]
    },
    {
      "cell_type": "code",
      "source": [
        "data={\n",
        "    'Age':[35,15,50,None,25],\n",
        "    'Salary':[40000,66000,None,55000,85000],\n",
        "    'Department':['HR','IT','IT','HR','HR'],\n",
        "    'Purchased':['Yes','No','No','Yes','Yes'],\n",
        "    'Gender':['Female','Female','Male','Female','Male']\n",
        "}\n",
        "\n",
        "df=pd.DataFrame(data)\n",
        "print(\"Before preprocessing dataset:\\n\",df)"
      ],
      "metadata": {
        "colab": {
          "base_uri": "https://localhost:8080/"
        },
        "id": "MLOX3Yspt32e",
        "outputId": "b3b2a474-740c-46a6-9bd6-a8ada60ea8cd"
      },
      "execution_count": 2,
      "outputs": [
        {
          "output_type": "stream",
          "name": "stdout",
          "text": [
            "Before preprocessing dataset:\n",
            "     Age   Salary Department Purchased  Gender\n",
            "0  35.0  40000.0         HR       Yes  Female\n",
            "1  15.0  66000.0         IT        No  Female\n",
            "2  50.0      NaN         IT        No    Male\n",
            "3   NaN  55000.0         HR       Yes  Female\n",
            "4  25.0  85000.0         HR       Yes    Male\n"
          ]
        }
      ]
    },
    {
      "cell_type": "code",
      "source": [
        "imputer=SimpleImputer(strategy='mean')\n",
        "df[['Age','Salary']]=imputer.fit_transform(df[['Age','Salary']])\n",
        "print(\"After handling missing values:\\n\",df)"
      ],
      "metadata": {
        "colab": {
          "base_uri": "https://localhost:8080/"
        },
        "id": "stSj7ufsuAaW",
        "outputId": "1d147f83-f847-492a-9d87-b5ef4f19b84e"
      },
      "execution_count": 3,
      "outputs": [
        {
          "output_type": "stream",
          "name": "stdout",
          "text": [
            "After handling missing values:\n",
            "      Age   Salary Department Purchased  Gender\n",
            "0  35.00  40000.0         HR       Yes  Female\n",
            "1  15.00  66000.0         IT        No  Female\n",
            "2  50.00  61500.0         IT        No    Male\n",
            "3  31.25  55000.0         HR       Yes  Female\n",
            "4  25.00  85000.0         HR       Yes    Male\n"
          ]
        }
      ]
    },
    {
      "cell_type": "code",
      "source": [
        "label_encoder=LabelEncoder()\n",
        "df['Department']=label_encoder.fit_transform(df['Department'])\n",
        "df['Purchased']=label_encoder.fit_transform(df['Purchased'])\n",
        "df['Gender']=label_encoder.fit_transform(df['Gender'])"
      ],
      "metadata": {
        "id": "yWW2kMtEuF3I"
      },
      "execution_count": 4,
      "outputs": []
    },
    {
      "cell_type": "code",
      "source": [
        "scaler=StandardScaler()\n",
        "df[['Age','Salary']]=scaler.fit_transform(df[['Age','Salary']])"
      ],
      "metadata": {
        "id": "EkacK8IduIoy"
      },
      "execution_count": 5,
      "outputs": []
    },
    {
      "cell_type": "code",
      "source": [
        "x=df.drop('Purchased',axis=1)\n",
        "y=df['Purchased']"
      ],
      "metadata": {
        "id": "JYlB6tDOuL5X"
      },
      "execution_count": 6,
      "outputs": []
    },
    {
      "cell_type": "code",
      "source": [
        "X_train, X_test, y_train, y_test = train_test_split(x, y, test_size=0.2, random_state=42)\n",
        ""
      ],
      "metadata": {
        "id": "xrHIZ4DRuPHb"
      },
      "execution_count": 7,
      "outputs": []
    },
    {
      "cell_type": "code",
      "source": [
        "print(\"\\nPreprocessed Features (X_train):\\n\", X_train)\n",
        "print(\"\\nTarget (y_train):\\n\", y_train)"
      ],
      "metadata": {
        "colab": {
          "base_uri": "https://localhost:8080/"
        },
        "id": "h05EQOfeuSPR",
        "outputId": "ee01d5ed-ecc8-4214-8833-8bb946ca1939"
      },
      "execution_count": 8,
      "outputs": [
        {
          "output_type": "stream",
          "name": "stdout",
          "text": [
            "\n",
            "Preprocessed Features (X_train):\n",
            "         Age    Salary  Department  Gender\n",
            "4 -0.540422  1.601198           0       1\n",
            "2  1.621266  0.000000           1       1\n",
            "0  0.324253 -1.464926           0       0\n",
            "3  0.000000 -0.442885           0       0\n",
            "\n",
            "Target (y_train):\n",
            " 4    1\n",
            "2    0\n",
            "0    1\n",
            "3    1\n",
            "Name: Purchased, dtype: int64\n"
          ]
        }
      ]
    }
  ]
}